{
  "nbformat": 4,
  "nbformat_minor": 0,
  "metadata": {
    "colab": {
      "provenance": []
    },
    "kernelspec": {
      "name": "python3",
      "display_name": "Python 3"
    },
    "language_info": {
      "name": "python"
    }
  },
  "cells": [
    {
      "cell_type": "code",
      "execution_count": null,
      "metadata": {
        "colab": {
          "base_uri": "https://localhost:8080/"
        },
        "id": "O_-OJdpS-zeC",
        "outputId": "ce734af3-0f58-49c7-de75-04253c94b911"
      },
      "outputs": [
        {
          "output_type": "stream",
          "name": "stdout",
          "text": [
            "abba\n",
            "1\n"
          ]
        }
      ],
      "source": [
        "def palindrome(x):\n",
        "    l = \"\"\n",
        "    for i in range(len(x)):\n",
        "        l += x[len(x)-i-1]\n",
        "    if(l == x):\n",
        "        return 1\n",
        "    else:\n",
        "        return 0\n",
        "\n",
        "x = input()\n",
        "print(palindrome(x))"
      ]
    },
    {
      "cell_type": "code",
      "source": [
        "def reverse_string(x):\n",
        "    l = \"\"\n",
        "    for i in range(len(x)):\n",
        "        l += x[len(x)-i-1]\n",
        "    return l\n",
        "x = input()\n",
        "print(reverse_string(x))"
      ],
      "metadata": {
        "colab": {
          "base_uri": "https://localhost:8080/"
        },
        "id": "ySy4OFcu_Cb4",
        "outputId": "6d6e0281-91fe-45e6-ada4-d1d26634bbaf"
      },
      "execution_count": null,
      "outputs": [
        {
          "output_type": "stream",
          "name": "stdout",
          "text": [
            "abbbaa\n",
            "aabbba\n"
          ]
        }
      ]
    },
    {
      "cell_type": "code",
      "source": [
        "def leader(n, l):\n",
        "    lead = []\n",
        "    for i in range(n):\n",
        "        a = l[i]\n",
        "        l1 = l[i:]\n",
        "        count = 0\n",
        "        for j in l1:\n",
        "            if(a >= j):\n",
        "                count += 1\n",
        "            else:\n",
        "                break\n",
        "        if(count == len(l1)):\n",
        "            lead.append(a)\n",
        "    return lead\n",
        "# Example\n",
        "# n = 6\n",
        "# l = [16,17,4,3,5,2]\n",
        "# print(leader(n, l))\n",
        "# Output = [17, 5, 2]\n",
        "n = int(input(\"n = \"))\n",
        "l = []\n",
        "for i in range(n):\n",
        "  l.append(int(input()))\n",
        "print(leader(n, l))"
      ],
      "metadata": {
        "colab": {
          "base_uri": "https://localhost:8080/"
        },
        "id": "Hz-1qxk8_V_E",
        "outputId": "4e60acfc-ece5-46c8-fbe6-00b5e7a621df"
      },
      "execution_count": null,
      "outputs": [
        {
          "output_type": "stream",
          "name": "stdout",
          "text": [
            "n = 6\n",
            "16\n",
            "17\n",
            "4\n",
            "3\n",
            "5\n",
            "2\n",
            "[17, 5, 2]\n"
          ]
        }
      ]
    },
    {
      "cell_type": "code",
      "source": [
        "def water_trapped(arr, n):\n",
        "    l_max = [0] * n\n",
        "    r_max = [0] * n\n",
        "    water_trapped = 0\n",
        "    \n",
        "    l_max[0] = arr[0]\n",
        "    for i in range(1, n):\n",
        "        l_max[i] = max(l_max[i-1], arr[i])\n",
        "    \n",
        "    r_max[n-1] = arr[n-1]\n",
        "    for i in range(n-2, -1, -1):\n",
        "        r_max[i] = max(r_max[i+1], arr[i])\n",
        "    \n",
        "    for i in range(n):\n",
        "        water_trapped += min(l_max[i], r_max[i]) - arr[i]\n",
        "    \n",
        "    return water_trapped\n",
        "# Example\n",
        "# arr = [3, 0, 0, 2, 0, 4]\n",
        "# n = len(arr)\n",
        "# result = water_trapped(arr, n)\n",
        "# print(result)\n",
        "# Output = 10\n",
        "n = int(input(\"n = \"))\n",
        "arr = []\n",
        "dep = []\n",
        "for i in range(n):\n",
        "  arr.append(int(input()))\n",
        "print(water_trapped(arr, n))"
      ],
      "metadata": {
        "id": "O7HBIK5KDhnj",
        "colab": {
          "base_uri": "https://localhost:8080/"
        },
        "outputId": "db90f6af-93a2-4d75-9c4a-a9aeb2cd18ce"
      },
      "execution_count": null,
      "outputs": [
        {
          "output_type": "stream",
          "name": "stdout",
          "text": [
            "n = 6\n",
            "3\n",
            "0\n",
            "0\n",
            "2\n",
            "0\n",
            "4\n",
            "10\n"
          ]
        }
      ]
    },
    {
      "cell_type": "code",
      "source": [
        "def min_platforms(n, arr, dep):\n",
        "    pf = 1\n",
        "    min_pf = 1\n",
        "    i = 1\n",
        "    j = 0\n",
        "    if(len(arr) != n or len(dep) != n or len(arr) != len(dep)):\n",
        "      return -1\n",
        "    while i < n and j < n:\n",
        "        if arr[i] > dep[j]:\n",
        "            pf -= 1\n",
        "            j += 1\n",
        "        else:\n",
        "            pf += 1\n",
        "            i += 1\n",
        "            if pf > min_pf:\n",
        "                min_pf = pf\n",
        "    return min_pf\n",
        "# Example\n",
        "# arri = [900, 940, 950, 1100, 1500, 1800]\n",
        "# dep = [910, 1200, 1120, 1130, 1900, 2000]\n",
        "# n = len(dep)\n",
        "# print(min_platforms(n, arri,dep))\n",
        "# Output = 3\n",
        "n = int(input(\"n = \"))\n",
        "arr = []\n",
        "dep = []\n",
        "for i in range(n): # First n values are for arrival. \n",
        "  arr.append(int(input()))\n",
        "for i in range(n): # Next n values are for departure.\n",
        "  dep.append(int(input()))\n",
        "print(min_platforms(n, arr, dep))"
      ],
      "metadata": {
        "colab": {
          "base_uri": "https://localhost:8080/"
        },
        "id": "wH68xihHK5FY",
        "outputId": "beff9cb7-bc86-4596-9d5c-064e3af5883e"
      },
      "execution_count": null,
      "outputs": [
        {
          "output_type": "stream",
          "name": "stdout",
          "text": [
            "n = 6\n",
            "900\n",
            "940\n",
            "950\n",
            "1100\n",
            "1500\n",
            "1800\n",
            "910\n",
            "1200\n",
            "1120\n",
            "1130\n",
            "1900\n",
            "2000\n",
            "3\n"
          ]
        }
      ]
    }
  ]
}